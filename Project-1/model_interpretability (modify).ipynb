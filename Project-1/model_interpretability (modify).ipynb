{
  "cells": [
    {
      "cell_type": "markdown",
      "metadata": {
        "id": "cMZi9piFQeIz"
      },
      "source": [
        "# CNN for TFBS predictions and model interpretability\n",
        "\n",
        "In this notebook we will how easy it is to train a CNN on DNA data contains binding sites for proteins, make predictions for Transcription Factor Binding Sites (TFBS) and extract the learned motif with a simple gradient-based method."
      ]
    },
    {
      "cell_type": "markdown",
      "metadata": {
        "id": "41FumlkHQeI1"
      },
      "source": [
        "## Load Necessary Libraries"
      ]
    },
    {
      "cell_type": "code",
      "execution_count": 1,
      "metadata": {
        "id": "rl-mp4eLQeI1"
      },
      "outputs": [],
      "source": [
        "from keras.layers import Conv1D, MaxPooling1D\n",
        "from tensorflow.python.keras.layers.core import Dense, Flatten, Dropout\n",
        "from keras.models import Sequential\n",
        "from keras.callbacks import EarlyStopping, ModelCheckpoint\n",
        "import pandas as pd\n",
        "import numpy as np\n",
        "from sklearn.metrics import roc_curve, auc, average_precision_score\n",
        "from sklearn.model_selection import train_test_split\n",
        "from sklearn.preprocessing import LabelEncoder, OneHotEncoder"
      ]
    },
    {
      "cell_type": "markdown",
      "metadata": {
        "id": "dAH-BnpgQeI2"
      },
      "source": [
        "## Load the sequence data"
      ]
    },
    {
      "cell_type": "code",
      "execution_count": 2,
      "metadata": {
        "colab": {
          "base_uri": "https://localhost:8080/"
        },
        "id": "-yJ9axxLQeI2",
        "outputId": "7c0a519d-e50f-4f12-a4d4-d0d25c6363b3"
      },
      "outputs": [
        {
          "output_type": "stream",
          "name": "stdout",
          "text": [
            "50\n",
            "                                            sequence\n",
            "0  CCGAGGGCTATGGTTTGGAAGTTAGAACCCTGGGGCTTCTCGCGGA...\n",
            "1  GAGTTTATATGGCGCGAGCCTAGTGGTTTTTGTACTTGTTTGTCGC...\n",
            "2  GATCAGTAGGGAAACAAACAGAGGGCCCAGCCACATCTAGCAGGTA...\n",
            "3  GTCCAAAAGAGGAAGTTCACCTTGACCGCAGAGGTACCACCAGAGC...\n",
            "4  GGAAAGAGGAAGTTAACTAGAACCTGCATAACTGGCCTGGGAGATA...\n",
            "\n",
            "                                               sequence\n",
            "1995  GTCGCGCGGGTGCGGAGGATGAGTCGCAGACGCATTTATGTCGCCC...\n",
            "1996  GTTCGCAGCGTATTGAGTAATGTTTGACTAAAGAGGAAGTTATATT...\n",
            "1997  ACTCGCTGTCCACGTCTATTCCTAGGGGTTTTATTTCGCAAGGTGA...\n",
            "1998  TGCAAAGGGGAAAGAGGAAGTTCTTTACCGCGGAGTTATTCATAAT...\n",
            "1999  AATGTAAAGAGGAAGTTGCACTGCTGGCCCGGGCCTATATCGAGAG...\n"
          ]
        }
      ],
      "source": [
        "input_fasta_data = pd.read_table(\"sequences_mod.txt\", header=None)\n",
        "input_fasta_data.rename(columns={0: \"sequence\"}, inplace=True)\n",
        "sequence_length = len(input_fasta_data.sequence[0])\n",
        "print(sequence_length)\n",
        "print(input_fasta_data.head())\n",
        "print()\n",
        "print(input_fasta_data.tail())"
      ]
    },
    {
      "cell_type": "markdown",
      "metadata": {
        "id": "pBPLY994QeI2"
      },
      "source": [
        "## Feature extraction and OHE"
      ]
    },
    {
      "cell_type": "code",
      "execution_count": 3,
      "metadata": {
        "colab": {
          "base_uri": "https://localhost:8080/"
        },
        "id": "yXF-nOKFQeI3",
        "outputId": "a7b9beac-8220-4efd-feac-2af4277e8d48"
      },
      "outputs": [
        {
          "output_type": "stream",
          "name": "stdout",
          "text": [
            "(2000, 50, 4)\n",
            "[[[0. 1. 0. 0.]\n",
            "  [0. 1. 0. 0.]\n",
            "  [0. 0. 1. 0.]\n",
            "  ...\n",
            "  [1. 0. 0. 0.]\n",
            "  [0. 1. 0. 0.]\n",
            "  [0. 1. 0. 0.]]\n",
            "\n",
            " [[0. 0. 1. 0.]\n",
            "  [1. 0. 0. 0.]\n",
            "  [0. 0. 1. 0.]\n",
            "  ...\n",
            "  [0. 0. 0. 1.]\n",
            "  [0. 1. 0. 0.]\n",
            "  [0. 0. 1. 0.]]\n",
            "\n",
            " [[0. 0. 1. 0.]\n",
            "  [1. 0. 0. 0.]\n",
            "  [0. 0. 0. 1.]\n",
            "  ...\n",
            "  [0. 1. 0. 0.]\n",
            "  [0. 1. 0. 0.]\n",
            "  [0. 0. 0. 1.]]\n",
            "\n",
            " ...\n",
            "\n",
            " [[1. 0. 0. 0.]\n",
            "  [0. 1. 0. 0.]\n",
            "  [0. 0. 0. 1.]\n",
            "  ...\n",
            "  [1. 0. 0. 0.]\n",
            "  [0. 1. 0. 0.]\n",
            "  [0. 0. 0. 1.]]\n",
            "\n",
            " [[0. 0. 0. 1.]\n",
            "  [0. 0. 1. 0.]\n",
            "  [0. 1. 0. 0.]\n",
            "  ...\n",
            "  [0. 0. 1. 0.]\n",
            "  [1. 0. 0. 0.]\n",
            "  [1. 0. 0. 0.]]\n",
            "\n",
            " [[1. 0. 0. 0.]\n",
            "  [1. 0. 0. 0.]\n",
            "  [0. 0. 0. 1.]\n",
            "  ...\n",
            "  [0. 0. 1. 0.]\n",
            "  [1. 0. 0. 0.]\n",
            "  [0. 1. 0. 0.]]]\n"
          ]
        }
      ],
      "source": [
        "iec = LabelEncoder()\n",
        "ohe = OneHotEncoder(categories='auto')\n",
        "seq_matrix = []\n",
        "for sequence in input_fasta_data.sequence:\n",
        "  iecd = iec.fit_transform(list(sequence))\n",
        "  iecd = np.array(iecd).reshape(-1, 1)\n",
        "  ohed = ohe.fit_transform(iecd)\n",
        "  seq_matrix.append(ohed.toarray())\n",
        "seq_matrix = np.stack(seq_matrix)\n",
        "print(seq_matrix.shape)\n",
        "print(seq_matrix)"
      ]
    },
    {
      "cell_type": "markdown",
      "metadata": {
        "id": "AiOcMdLxQeI3"
      },
      "source": [
        "## Target labels"
      ]
    },
    {
      "cell_type": "code",
      "execution_count": 4,
      "metadata": {
        "colab": {
          "base_uri": "https://localhost:8080/"
        },
        "id": "Awksw5MXQeI3",
        "outputId": "8d528b56-3357-4db9-e72b-0534336b60dc"
      },
      "outputs": [
        {
          "output_type": "stream",
          "name": "stdout",
          "text": [
            "[0 0 0 1 1]\n",
            "(2000, 2)\n",
            "[[1. 0.]\n",
            " [1. 0.]\n",
            " [1. 0.]\n",
            " ...\n",
            " [1. 0.]\n",
            " [0. 1.]\n",
            " [0. 1.]]\n"
          ]
        }
      ],
      "source": [
        "labels = pd.read_csv('labels.txt')\n",
        "Labels = np.array(labels).reshape(-1)\n",
        "print(Labels[:5])\n",
        "iecd = iec.fit_transform(Labels[:])\n",
        "iecd = np.array(iecd).reshape(-1, 1)\n",
        "ohed = ohe.fit_transform(iecd)\n",
        "Y = np.stack(ohed.toarray())\n",
        "print(Y.shape)\n",
        "print(Y)"
      ]
    },
    {
      "cell_type": "markdown",
      "metadata": {
        "id": "azWLztwHQeI3"
      },
      "source": [
        "### Distribution of Positive and Negative samples"
      ]
    },
    {
      "cell_type": "code",
      "execution_count": 5,
      "metadata": {
        "colab": {
          "base_uri": "https://localhost:8080/"
        },
        "id": "nRmsMsOeQeI3",
        "outputId": "c227f021-b9d4-4fb6-cde7-b7ff8758a8b4"
      },
      "outputs": [
        {
          "output_type": "stream",
          "name": "stdout",
          "text": [
            "0    1013\n",
            "1     987\n",
            "Name: count, dtype: int64\n"
          ]
        }
      ],
      "source": [
        "print(pd.DataFrame(Labels).value_counts())"
      ]
    },
    {
      "cell_type": "markdown",
      "metadata": {
        "id": "HkdbUzaVQeI3"
      },
      "source": [
        "# Train-test split\n",
        "Before we train the model, let’s split the dataset into training and test datasets so that we can use\n",
        "training data for model training and test data for model evaluation:"
      ]
    },
    {
      "cell_type": "code",
      "execution_count": 22,
      "metadata": {
        "colab": {
          "base_uri": "https://localhost:8080/"
        },
        "id": "_fl8azn5QeI3",
        "outputId": "cc9473b0-5517-4d20-abab-3261bfc85bd8"
      },
      "outputs": [
        {
          "output_type": "stream",
          "name": "stdout",
          "text": [
            "(1500, 50, 4)\n",
            "(1500, 2)\n"
          ]
        }
      ],
      "source": [
        "X_train, X_test, Y_train, Y_test = train_test_split(seq_matrix, Y, test_size=0.25, random_state=42, shuffle=True)\n",
        "X_train.shape, X_test.shape, Y_train.shape, Y_test.shape\n",
        "print(X_train.shape)\n",
        "print(Y_train.shape)"
      ]
    },
    {
      "cell_type": "code",
      "execution_count": 23,
      "metadata": {
        "colab": {
          "base_uri": "https://localhost:8080/"
        },
        "id": "rObs-aR5QeI4",
        "outputId": "64f558d4-f9d9-4873-dd6f-131a47a608a6"
      },
      "outputs": [
        {
          "output_type": "stream",
          "name": "stdout",
          "text": [
            "(1500, 50, 4) (1500, 50, 4, 1)\n",
            "(500, 50, 4) (500, 50, 4, 1)\n"
          ]
        }
      ],
      "source": [
        "# Reshaping the data so it corresponds to the input format of keras\n",
        "X_train_reshaped = X_train.reshape((X_train.shape[0], X_train.shape[1], X_train.shape[2], 1))\n",
        "X_test_reshaped = X_test.reshape((X_test.shape[0], X_test.shape[1], X_test.shape[2], 1))\n",
        "print(X_train.shape, X_train_reshaped.shape)\n",
        "print(X_test.shape, X_test_reshaped.shape)"
      ]
    },
    {
      "cell_type": "markdown",
      "metadata": {
        "id": "V5c4ZfTkQeI4"
      },
      "source": [
        "## Create a CNN\n",
        "\n",
        "We start with a fairly simple NN architeture of a single convolutional layer followed by a max-pooling layer\n",
        "and then a single dense layer."
      ]
    },
    {
      "cell_type": "code",
      "execution_count": 24,
      "metadata": {
        "id": "-17nSSV9QeI4",
        "outputId": "948ba7da-9124-47af-dabf-b569b150bc68",
        "colab": {
          "base_uri": "https://localhost:8080/"
        }
      },
      "outputs": [
        {
          "output_type": "stream",
          "name": "stdout",
          "text": [
            "Model: \"sequential_3\"\n",
            "_________________________________________________________________\n",
            " Layer (type)                Output Shape              Param #   \n",
            "=================================================================\n",
            " conv1d_3 (Conv1D)           (None, 50, 32)            1568      \n",
            "                                                                 \n",
            " max_pooling1d_3 (MaxPoolin  (None, 10, 32)            0         \n",
            " g1D)                                                            \n",
            "                                                                 \n",
            " module_wrapper_45 (ModuleW  (None, 320)               0         \n",
            " rapper)                                                         \n",
            "                                                                 \n",
            " module_wrapper_46 (ModuleW  (None, 256)               82176     \n",
            " rapper)                                                         \n",
            "                                                                 \n",
            " module_wrapper_47 (ModuleW  (None, 256)               0         \n",
            " rapper)                                                         \n",
            "                                                                 \n",
            " module_wrapper_48 (ModuleW  (None, 128)               32896     \n",
            " rapper)                                                         \n",
            "                                                                 \n",
            " module_wrapper_49 (ModuleW  (None, 128)               0         \n",
            " rapper)                                                         \n",
            "                                                                 \n",
            " module_wrapper_50 (ModuleW  (None, 64)                8256      \n",
            " rapper)                                                         \n",
            "                                                                 \n",
            " module_wrapper_51 (ModuleW  (None, 64)                0         \n",
            " rapper)                                                         \n",
            "                                                                 \n",
            " module_wrapper_52 (ModuleW  (None, 32)                2080      \n",
            " rapper)                                                         \n",
            "                                                                 \n",
            " module_wrapper_53 (ModuleW  (None, 32)                0         \n",
            " rapper)                                                         \n",
            "                                                                 \n",
            " module_wrapper_54 (ModuleW  (None, 16)                528       \n",
            " rapper)                                                         \n",
            "                                                                 \n",
            " module_wrapper_55 (ModuleW  (None, 16)                272       \n",
            " rapper)                                                         \n",
            "                                                                 \n",
            " module_wrapper_56 (ModuleW  (None, 8)                 136       \n",
            " rapper)                                                         \n",
            "                                                                 \n",
            " module_wrapper_57 (ModuleW  (None, 8)                 72        \n",
            " rapper)                                                         \n",
            "                                                                 \n",
            " module_wrapper_58 (ModuleW  (None, 4)                 36        \n",
            " rapper)                                                         \n",
            "                                                                 \n",
            " module_wrapper_59 (ModuleW  (None, 4)                 20        \n",
            " rapper)                                                         \n",
            "                                                                 \n",
            " module_wrapper_60 (ModuleW  (None, 2)                 10        \n",
            " rapper)                                                         \n",
            "                                                                 \n",
            "=================================================================\n",
            "Total params: 128050 (500.20 KB)\n",
            "Trainable params: 128050 (500.20 KB)\n",
            "Non-trainable params: 0 (0.00 Byte)\n",
            "_________________________________________________________________\n"
          ]
        }
      ],
      "source": [
        "dropout = 0.2\n",
        "model = Sequential()\n",
        "model.add(Conv1D(filters=32, kernel_size=12, input_shape=(50, 4), padding='same'))\n",
        "model.add(MaxPooling1D(pool_size=5))\n",
        "model.add(Flatten())\n",
        "model.add(Dense(256, activation='relu'))\n",
        "model.add(Dropout(dropout))\n",
        "model.add(Dense(128, activation='relu'))\n",
        "model.add(Dropout(dropout))\n",
        "model.add(Dense(64, activation='relu'))\n",
        "model.add(Dropout(dropout))\n",
        "model.add(Dense(32, activation='relu'))\n",
        "model.add(Dropout(dropout))\n",
        "model.add(Dense(16, activation='relu'))\n",
        "model.add(Dense(16, activation='relu'))\n",
        "model.add(Dense(8, activation='relu'))\n",
        "model.add(Dense(8, activation='relu'))\n",
        "model.add(Dense(4, activation='relu'))\n",
        "model.add(Dense(4, activation='relu'))\n",
        "model.add(Dense(2, activation='softmax'))\n",
        "model.compile(loss='mean_squared_error', optimizer='adam')\n",
        "model.summary()"
      ]
    },
    {
      "cell_type": "markdown",
      "metadata": {
        "id": "liBd5lknQeI4"
      },
      "source": [
        "# Fit the model"
      ]
    },
    {
      "cell_type": "code",
      "source": [
        "from keras import optimizers\n",
        "model.compile(loss='categorical_crossentropy',\n",
        "              optimizer=optimizers.SGD(lr=0.0001, momentum=0.9),\n",
        "              metrics=['accuracy'])"
      ],
      "metadata": {
        "colab": {
          "base_uri": "https://localhost:8080/"
        },
        "id": "65IuRF6YeGQC",
        "outputId": "72786e0a-2f77-49e2-a793-59c440188f20"
      },
      "execution_count": 25,
      "outputs": [
        {
          "output_type": "stream",
          "name": "stderr",
          "text": [
            "WARNING:absl:`lr` is deprecated in Keras optimizer, please use `learning_rate` or use the legacy optimizer, e.g.,tf.keras.optimizers.legacy.SGD.\n"
          ]
        }
      ]
    },
    {
      "cell_type": "code",
      "execution_count": 26,
      "metadata": {
        "id": "IvXz8i4zQeI4",
        "outputId": "a3e61205-9f4e-427d-97f9-052656bb0d31",
        "colab": {
          "base_uri": "https://localhost:8080/"
        }
      },
      "outputs": [
        {
          "output_type": "stream",
          "name": "stdout",
          "text": [
            "Epoch 1/10\n",
            "135/135 [==============================] - 2s 6ms/step - loss: 0.6946 - accuracy: 0.4822 - val_loss: 0.6925 - val_accuracy: 0.5133\n",
            "Epoch 2/10\n",
            "135/135 [==============================] - 1s 4ms/step - loss: 0.6941 - accuracy: 0.5052 - val_loss: 0.6925 - val_accuracy: 0.5133\n",
            "Epoch 3/10\n",
            "135/135 [==============================] - 1s 4ms/step - loss: 0.6953 - accuracy: 0.5015 - val_loss: 0.6899 - val_accuracy: 0.7667\n",
            "Epoch 4/10\n",
            "135/135 [==============================] - 1s 6ms/step - loss: 0.6913 - accuracy: 0.5237 - val_loss: 0.6756 - val_accuracy: 0.5267\n",
            "Epoch 5/10\n",
            "135/135 [==============================] - 1s 7ms/step - loss: 0.6580 - accuracy: 0.6356 - val_loss: 0.7625 - val_accuracy: 0.4867\n",
            "Epoch 6/10\n",
            "135/135 [==============================] - 1s 7ms/step - loss: 0.4034 - accuracy: 0.8244 - val_loss: 0.3172 - val_accuracy: 0.8867\n",
            "Epoch 7/10\n",
            "135/135 [==============================] - 1s 7ms/step - loss: 0.2243 - accuracy: 0.9207 - val_loss: 0.0783 - val_accuracy: 0.9800\n",
            "Epoch 8/10\n",
            "135/135 [==============================] - 1s 4ms/step - loss: 0.1149 - accuracy: 0.9681 - val_loss: 0.0750 - val_accuracy: 0.9733\n",
            "Epoch 9/10\n",
            "135/135 [==============================] - 1s 4ms/step - loss: 0.0496 - accuracy: 0.9889 - val_loss: 0.0103 - val_accuracy: 1.0000\n",
            "Epoch 10/10\n",
            "135/135 [==============================] - 1s 4ms/step - loss: 0.0749 - accuracy: 0.9874 - val_loss: 0.0060 - val_accuracy: 1.0000\n"
          ]
        }
      ],
      "source": [
        "history = model.fit(X_train_reshaped, Y_train,\n",
        "          batch_size=10, epochs=10,\n",
        "          validation_split=0.1)"
      ]
    },
    {
      "cell_type": "markdown",
      "metadata": {
        "id": "-7C_fOJlQeI4"
      },
      "source": [
        "# Visualization"
      ]
    },
    {
      "cell_type": "code",
      "execution_count": 27,
      "metadata": {
        "id": "irz2BC1UQeI4",
        "outputId": "fe626ebe-f208-40b3-88aa-95c527eb6c4d",
        "colab": {
          "base_uri": "https://localhost:8080/",
          "height": 405
        }
      },
      "outputs": [
        {
          "output_type": "display_data",
          "data": {
            "text/plain": [
              "<Figure size 1500x500 with 2 Axes>"
            ],
            "image/png": "[encoded data removed]"
          },
          "metadata": {}
        }
      ],
      "source": [
        "import matplotlib.pyplot as plt\n",
        "fig, axs = plt.subplots(1,2,figsize=(15,5))\n",
        "axs[0].plot(range(1,len(history.history['accuracy'])+1),history.history['accuracy'])\n",
        "axs[0].plot(range(1,len(history.history['val_accuracy'])+1),history.history['val_accuracy'])\n",
        "axs[0].set_title('Model Accuracy')\n",
        "axs[0].set_ylabel('Accuracy')\n",
        "axs[0].set_xlabel('Epoch')\n",
        "axs[0].legend(['train', 'val'], loc='best')\n",
        "axs[1].plot(range(1,len(history.history['loss'])+1),history.history['loss'])\n",
        "axs[1].plot(range(1,len(history.history['val_loss'])+1),history.history['val_loss'])\n",
        "axs[1].set_title('Model Loss')\n",
        "axs[1].set_ylabel('Loss')\n",
        "axs[1].set_xlabel('Epoch')\n",
        "axs[1].legend(['train', 'val'], loc='best')\n",
        "plt.show()"
      ]
    },
    {
      "cell_type": "markdown",
      "metadata": {
        "id": "7Ro7wOSCQeI4"
      },
      "source": [
        "## Evaluating the Model\n",
        "\n",
        "Using metrics such as AUC and AUPRC"
      ]
    },
    {
      "cell_type": "code",
      "execution_count": 28,
      "metadata": {
        "id": "MdR_ITi3QeI4",
        "outputId": "4f579423-09f8-4190-a862-68e812ff6f97",
        "colab": {
          "base_uri": "https://localhost:8080/"
        }
      },
      "outputs": [
        {
          "output_type": "stream",
          "name": "stdout",
          "text": [
            "16/16 [==============================] - 0s 4ms/step\n"
          ]
        }
      ],
      "source": [
        "# Model predictions\n",
        "pred = model.predict(X_test_reshaped, batch_size=32).flatten()\n",
        "pred_final = np.argmax(pred.reshape(-1, 2), axis=1)\n",
        "Y_final = np.argmax(Y_test, axis=1)"
      ]
    },
    {
      "cell_type": "code",
      "source": [
        "import seaborn as sns\n",
        "from sklearn.metrics import confusion_matrix\n",
        "# Predict the values from the validation dataset\n",
        "\n",
        "# compute the confusion matrix\n",
        "confusion_mtx = confusion_matrix(Y_final.astype(str), pred_final.astype(str))\n",
        "# plot the confusion matrix\n",
        "f,ax = plt.subplots(figsize=(2, 2))\n",
        "sns.heatmap(confusion_mtx, annot=True, linewidths=0.01,cmap=\"Greens\",linecolor=\"gray\", fmt= '.1f',ax=ax)\n",
        "plt.xlabel(\"Predicted Label\")\n",
        "plt.ylabel(\"True Label\")\n",
        "plt.title(\"Confusion Matrix\")\n",
        "plt.show()\n"
      ],
      "metadata": {
        "colab": {
          "base_uri": "https://localhost:8080/",
          "height": 256
        },
        "id": "kJ9EtqdKfRt5",
        "outputId": "8e48e88c-3604-413e-c2f7-9bc29fbae550"
      },
      "execution_count": 29,
      "outputs": [
        {
          "output_type": "display_data",
          "data": {
            "text/plain": [
              "<Figure size 200x200 with 2 Axes>"
            ],
            "image/png": "[encoded data removed]"
          },
          "metadata": {}
        }
      ]
    },
    {
      "cell_type": "code",
      "execution_count": 30,
      "metadata": {
        "id": "7YCgVFZAQeI5",
        "outputId": "0dfb9fc6-576b-4c86-8250-02d0600c6821",
        "colab": {
          "base_uri": "https://localhost:8080/"
        }
      },
      "outputs": [
        {
          "output_type": "stream",
          "name": "stdout",
          "text": [
            "AUC 0.9798298594979094\n",
            "AUPRC 0.9707840066667823\n"
          ]
        }
      ],
      "source": [
        "# Model metrics such as AUC to get an estimate how good the NN actually learned\n",
        "fpr, tpr, thresholds = roc_curve(Y_final, pred_final)\n",
        "print(\"AUC\", auc(fpr, tpr))\n",
        "print(\"AUPRC\", average_precision_score(Y_final, pred_final))"
      ]
    },
    {
      "cell_type": "markdown",
      "metadata": {
        "id": "iFnjeYWbQeI5"
      },
      "source": [
        "## Make a saliency plot:"
      ]
    },
    {
      "cell_type": "code",
      "execution_count": 31,
      "metadata": {
        "id": "dfAwWqhFQeI5",
        "outputId": "ecad5dee-20ce-439c-e727-8c914f3e8282",
        "colab": {
          "base_uri": "https://localhost:8080/"
        }
      },
      "outputs": [
        {
          "output_type": "stream",
          "name": "stdout",
          "text": [
            "(1, 50, 4, 1)\n",
            "1/1 [==============================] - 0s 65ms/step\n",
            "seq_matrix_plot_pred  [0.9981085  0.00189149]\n"
          ]
        }
      ],
      "source": [
        "# Plot the motif for the sequences\n",
        "plot_ids = np.random.randint(0, len(X_test), 1)\n",
        "\n",
        "# Get the Y ~ X for the sequences we want to plot\n",
        "seq_matrix_plot = seq_matrix.reshape((seq_matrix.shape[0], seq_matrix.shape[1], seq_matrix.shape[2], 1))[plot_ids, :]\n",
        "print(seq_matrix_plot.shape)\n",
        "seq_matrix_plot_pred = model.predict(seq_matrix_plot, batch_size=32).flatten()\n",
        "print(\"seq_matrix_plot_pred \", seq_matrix_plot_pred)"
      ]
    },
    {
      "cell_type": "markdown",
      "metadata": {
        "id": "CXP9Jw7wQeI5"
      },
      "source": [
        "## Calculate Gradient"
      ]
    },
    {
      "cell_type": "code",
      "execution_count": 32,
      "metadata": {
        "id": "OSAcMCUKQeI5",
        "outputId": "df7d3206-569b-48ee-e359-eb84e52c620d",
        "colab": {
          "base_uri": "https://localhost:8080/"
        }
      },
      "outputs": [
        {
          "output_type": "stream",
          "name": "stdout",
          "text": [
            "(1, 50, 4, 1)\n",
            "(50, 50, 4, 1)\n"
          ]
        }
      ],
      "source": [
        "# Generate a new set of X where for each sequence every nucleotide is consecutively set to 0\n",
        "X = np.repeat(seq_matrix_plot, 50, axis=0)\n",
        "\n",
        "first = np.ones((50, 50), int)\n",
        "np.fill_diagonal(first, 0)\n",
        "second = np.repeat(first.reshape((1,50,50)), seq_matrix_plot.shape[0], axis=0)\n",
        "third = np.concatenate(second, axis=0)\n",
        "fourth = np.multiply(X, np.repeat(third.reshape((X.shape[0], 50, 1, 1)), 4, axis=2))\n",
        "\n",
        "print(seq_matrix_plot.shape)\n",
        "print(fourth.shape)"
      ]
    },
    {
      "cell_type": "code",
      "execution_count": 33,
      "metadata": {
        "id": "oCLhJTvJQeI6",
        "outputId": "61aaf3d0-d778-4e95-dda7-6cfee8894dd6",
        "colab": {
          "base_uri": "https://localhost:8080/"
        }
      },
      "outputs": [
        {
          "output_type": "stream",
          "name": "stdout",
          "text": [
            "2/2 [==============================] - 0s 11ms/step\n"
          ]
        }
      ],
      "source": [
        "# Calculate the prediction for each sequence with one deleted nucleotide\n",
        "fourth_pred = model.predict(fourth, batch_size=32).flatten()\n",
        "seq_matrix_plot_pred = np.argmax(seq_matrix_plot_pred.reshape(-1, 2), axis=1)\n",
        "fourth_pred = np.argmax(fourth_pred.reshape(-1, 2), axis=1)\n",
        "\n",
        "# Calculating scores\n",
        "scores = np.reshape((np.repeat(seq_matrix_plot_pred, 50) - fourth_pred), (len(plot_ids),50))\n",
        "# print(scores)"
      ]
    },
    {
      "cell_type": "markdown",
      "metadata": {
        "id": "KybLElzZQeI6"
      },
      "source": [
        "## Make the Motif/Saliency plot\n",
        "#### I used motif_plotter package available at https://github.com/const-ae/motif_plotter. Make sure you copy the motif_plotter folder from that repo before executing this command"
      ]
    },
    {
      "cell_type": "code",
      "execution_count": 34,
      "metadata": {
        "id": "aPLEHZ3aQeI6",
        "outputId": "f0702541-2fcc-496f-cb0e-6e1cac2733d0",
        "colab": {
          "base_uri": "https://localhost:8080/",
          "height": 585
        }
      },
      "outputs": [
        {
          "output_type": "stream",
          "name": "stdout",
          "text": [
            "Collecting git+https://github.com/const-ae/motif_plotter.git\n",
            "  Cloning https://github.com/const-ae/motif_plotter.git to /tmp/pip-req-build-1ilgzx6l\n",
            "  Running command git clone --filter=blob:none --quiet https://github.com/const-ae/motif_plotter.git /tmp/pip-req-build-1ilgzx6l\n",
            "  Resolved https://github.com/const-ae/motif_plotter.git to commit d261cc49ac7f5af43341bb0132048f89121022e6\n",
            "  Preparing metadata (setup.py) ... \u001b[?25l\u001b[?25hdone\n",
            "Building wheels for collected packages: motif-plotter\n",
            "  Building wheel for motif-plotter (setup.py) ... \u001b[?25l\u001b[?25hdone\n",
            "  Created wheel for motif-plotter: filename=motif_plotter-0.2-py3-none-any.whl size=5572 sha256=5cb7af34beeb6e32bb695781d3b4bad8d9cc3f62ff0e0380ab36686b0183adfa\n",
            "  Stored in directory: /tmp/pip-ephem-wheel-cache-ldnmg0j2/wheels/13/6b/75/479bc530a4457f4fb82f8b6a6df112b23b782b680c75fb8d6d\n",
            "Successfully built motif-plotter\n",
            "Installing collected packages: motif-plotter\n",
            "Successfully installed motif-plotter-0.2\n"
          ]
        },
        {
          "output_type": "stream",
          "name": "stderr",
          "text": [
            "/usr/local/lib/python3.10/dist-packages/motif_plotter/__init__.py:42: UserWarning: Attempting to set identical low and high ylims makes transformation singular; automatically expanding.\n",
            "  axes.set_ylim(min(0,min(heights)), max(0,max(heights)))\n"
          ]
        },
        {
          "output_type": "display_data",
          "data": {
            "text/plain": [
              "<Figure size 1440x400 with 1 Axes>"
            ],
            "image/png": "[encoded data removed]"
          },
          "metadata": {}
        }
      ],
      "source": [
        "!pip install \"git+https://github.com/const-ae/motif_plotter.git\"\n",
        "import motif_plotter\n",
        "import matplotlib.pyplot as plt\n",
        "\n",
        "for idx in range(0,len(plot_ids)):\n",
        "    fig=plt.figure(figsize=(18, 5), dpi= 80)\n",
        "    ax=fig.add_subplot(111)\n",
        "    motif_plotter.make_single_sequence_spectrum(ax,\n",
        "                                                seq_matrix_plot[idx].reshape((50, 4)),\n",
        "                                                np.arcsinh(scores[idx]).reshape(50,1))\n",
        "    plt.show()"
      ]
    }
  ],
  "metadata": {
    "anaconda-cloud": {},
    "kernelspec": {
      "display_name": "Python 3.9.12 ('condon_optimzation')",
      "language": "python",
      "name": "python3"
    },
    "language_info": {
      "codemirror_mode": {
        "name": "ipython",
        "version": 3
      },
      "file_extension": ".py",
      "mimetype": "text/x-python",
      "name": "python",
      "nbconvert_exporter": "python",
      "pygments_lexer": "ipython3",
      "version": "3.9.12"
    },
    "vscode": {
      "interpreter": {
        "hash": "6c9ad104059c90d12f50de5b72966553aaf7f663dcb89a78d88d441df52afa79"
      }
    },
    "colab": {
      "provenance": []
    }
  },
  "nbformat": 4,
  "nbformat_minor": 0
}